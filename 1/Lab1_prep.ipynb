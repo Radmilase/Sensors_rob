{
 "cells": [
  {
   "cell_type": "markdown",
   "metadata": {},
   "source": [
    "# Подготовка к ЛР №1\n",
    "## Курс \"Системы очувствления роботов\""
   ]
  },
  {
   "cell_type": "markdown",
   "metadata": {},
   "source": [
    "<b>Цель работы:</b> ознакомиться с основными математическими операциями и инструментами, необходимыми для обработки сенсорной информации с использованием языка программирования Python.\n"
   ]
  },
  {
   "cell_type": "code",
   "execution_count": 1,
   "metadata": {},
   "outputs": [],
   "source": [
    "#подключение библиотек\n",
    "import numpy as np\n",
    "from numpy import linalg\n",
    "import matplotlib.pyplot as plt"
   ]
  },
  {
   "cell_type": "markdown",
   "metadata": {},
   "source": [
    "### Основы работы"
   ]
  },
  {
   "cell_type": "code",
   "execution_count": 3,
   "metadata": {},
   "outputs": [
    {
     "name": "stdout",
     "output_type": "stream",
     "text": [
      "1.4142135623730956\n"
     ]
    }
   ],
   "source": [
    "#пример вычисления сложного выражения\n",
    "x = 3\n",
    "y = np.sin(np.pi*x) + np.sqrt(2)\n",
    "print(y)"
   ]
  },
  {
   "cell_type": "code",
   "execution_count": 4,
   "metadata": {},
   "outputs": [
    {
     "data": {
      "text/plain": [
       "3.141592653589793"
      ]
     },
     "execution_count": 4,
     "metadata": {},
     "output_type": "execute_result"
    }
   ],
   "source": [
    "alfa = 180 #градусы\n",
    "betta = np.deg2rad(alfa)\n",
    "betta"
   ]
  },
  {
   "cell_type": "markdown",
   "metadata": {},
   "source": [
    "Обратите внимание, что библиотека Numpy работает с радианами!"
   ]
  },
  {
   "cell_type": "markdown",
   "metadata": {},
   "source": [
    "Если необходимо преобразовать, можно воспользоваться функцией: degrees = np.deg2rad(radians)"
   ]
  },
  {
   "cell_type": "code",
   "execution_count": 3,
   "metadata": {},
   "outputs": [],
   "source": [
    "#пример написания функций\n",
    "def calculate_sin(x):\n",
    "    y = np.sin(x)\n",
    "    \n",
    "    return y"
   ]
  },
  {
   "cell_type": "code",
   "execution_count": 4,
   "metadata": {},
   "outputs": [
    {
     "name": "stdout",
     "output_type": "stream",
     "text": [
      "0.8414709848078965\n"
     ]
    }
   ],
   "source": [
    "a = 1\n",
    "b = calculate_sin(a)\n",
    "print(b)"
   ]
  },
  {
   "cell_type": "code",
   "execution_count": 6,
   "metadata": {},
   "outputs": [
    {
     "data": {
      "text/plain": [
       "1"
      ]
     },
     "execution_count": 6,
     "metadata": {},
     "output_type": "execute_result"
    }
   ],
   "source": [
    "b\n",
    "a"
   ]
  },
  {
   "cell_type": "code",
   "execution_count": 7,
   "metadata": {},
   "outputs": [
    {
     "name": "stdout",
     "output_type": "stream",
     "text": [
      "x =  [0.  0.5 1.  1.5 2.  2.5 3.  3.5 4.  4.5 5.  5.5 6.  6.5 7.  7.5]\n",
      "y =  [0.  0.6 1.2 1.8 2.4 3. ]\n"
     ]
    }
   ],
   "source": [
    "#пример с генерацией векторов\n",
    "x = np.arange(0,8,0.5) #от 0 до 8 с шагом 0.5\n",
    "y = np.linspace(0.0, 3.0, num=6) #от 0 до 3 разбивает на 5 точек (включая начало и конец)\n",
    "print('x = ', x)\n",
    "print('y = ', y)"
   ]
  },
  {
   "cell_type": "code",
   "execution_count": 8,
   "metadata": {},
   "outputs": [
    {
     "name": "stdout",
     "output_type": "stream",
     "text": [
      "<class 'numpy.ndarray'>\n",
      "<class 'numpy.ndarray'>\n"
     ]
    }
   ],
   "source": [
    "#посмотреть тип данных\n",
    "print(type(x))\n",
    "print(type(y))"
   ]
  },
  {
   "cell_type": "code",
   "execution_count": 9,
   "metadata": {},
   "outputs": [
    {
     "name": "stdout",
     "output_type": "stream",
     "text": [
      "A=\n",
      " [1 2 3]\n",
      "B=\n",
      " [[1 2 3]\n",
      " [4 5 6]\n",
      " [7 8 9]]\n"
     ]
    }
   ],
   "source": [
    "#создание матрицы\n",
    "A = np.array([1, 2, 3]) #одномерная матрица\n",
    "B = np.array([[1, 2, 3],\n",
    "              [4, 5, 6],\n",
    "              [7, 8, 9]])\n",
    "print('A=\\n',A)\n",
    "print('B=\\n',B)"
   ]
  },
  {
   "cell_type": "code",
   "execution_count": 10,
   "metadata": {},
   "outputs": [
    {
     "name": "stdout",
     "output_type": "stream",
     "text": [
      "Подматрица A:\n",
      "  [[2 3]\n",
      " [5 6]]\n"
     ]
    }
   ],
   "source": [
    "#работа с подматрицами\n",
    "print('Подматрица A:\\n ',B[0:2,1:3]) #строки от 2 до 3, столбцы от 1 до 3"
   ]
  },
  {
   "cell_type": "code",
   "execution_count": 11,
   "metadata": {},
   "outputs": [
    {
     "data": {
      "text/plain": [
       "array([[1, 2, 3]])"
      ]
     },
     "execution_count": 11,
     "metadata": {},
     "output_type": "execute_result"
    }
   ],
   "source": [
    "B[:1]"
   ]
  },
  {
   "cell_type": "code",
   "execution_count": 11,
   "metadata": {},
   "outputs": [
    {
     "name": "stdout",
     "output_type": "stream",
     "text": [
      "(3,)\n",
      "(1, 3)\n"
     ]
    }
   ],
   "source": [
    "#как проверить размерность матрицы\n",
    "print(A.shape)\n",
    "print(B[:1].shape)"
   ]
  },
  {
   "cell_type": "code",
   "execution_count": 12,
   "metadata": {},
   "outputs": [
    {
     "name": "stdout",
     "output_type": "stream",
     "text": [
      "(3, 1)\n"
     ]
    }
   ],
   "source": [
    "print(A.reshape(3,1).shape)"
   ]
  },
  {
   "cell_type": "code",
   "execution_count": 12,
   "metadata": {},
   "outputs": [
    {
     "data": {
      "text/plain": [
       "array([[1, 2, 3],\n",
       "       [1, 2, 3]])"
      ]
     },
     "execution_count": 12,
     "metadata": {},
     "output_type": "execute_result"
    }
   ],
   "source": [
    "# оперция конкатенации (объединения)\n",
    "np.concatenate((B[:1], A.reshape(1,3)), axis=0)"
   ]
  },
  {
   "cell_type": "code",
   "execution_count": 16,
   "metadata": {},
   "outputs": [
    {
     "name": "stdout",
     "output_type": "stream",
     "text": [
      "C=\n",
      " [[ 2  4  6]\n",
      " [ 5  7  9]\n",
      " [ 8 10 12]]\n",
      "D=\n",
      " [30 36 42]\n"
     ]
    }
   ],
   "source": [
    "#операции с матрицами\n",
    "C = A + B #сумма элементов\n",
    "print('C=\\n', C)\n",
    "D = np.dot(A, B)\n",
    "print('D=\\n', D)"
   ]
  },
  {
   "cell_type": "code",
   "execution_count": 17,
   "metadata": {},
   "outputs": [
    {
     "data": {
      "text/plain": [
       "array([30, 36, 42])"
      ]
     },
     "execution_count": 17,
     "metadata": {},
     "output_type": "execute_result"
    }
   ],
   "source": [
    "A@B"
   ]
  },
  {
   "cell_type": "code",
   "execution_count": 18,
   "metadata": {},
   "outputs": [
    {
     "data": {
      "text/plain": [
       "array([30, 36, 42])"
      ]
     },
     "execution_count": 18,
     "metadata": {},
     "output_type": "execute_result"
    }
   ],
   "source": [
    "np.dot(A, B)"
   ]
  },
  {
   "cell_type": "code",
   "execution_count": 19,
   "metadata": {},
   "outputs": [
    {
     "name": "stdout",
     "output_type": "stream",
     "text": [
      "E=\n",
      " [[ 2  5  8]\n",
      " [ 4  7 10]\n",
      " [ 6  9 12]]\n"
     ]
    }
   ],
   "source": [
    "E = np.transpose(C)\n",
    "print('E=\\n', E)"
   ]
  },
  {
   "cell_type": "code",
   "execution_count": 22,
   "metadata": {},
   "outputs": [
    {
     "data": {
      "text/plain": [
       "array([[ 1.12589991e+15, -2.25179981e+15,  1.12589991e+15],\n",
       "       [-2.25179981e+15,  4.50359963e+15, -2.25179981e+15],\n",
       "       [ 1.12589991e+15, -2.25179981e+15,  1.12589991e+15]])"
      ]
     },
     "execution_count": 22,
     "metadata": {},
     "output_type": "execute_result"
    }
   ],
   "source": [
    "linalg.inv(E)\n"
   ]
  },
  {
   "cell_type": "code",
   "execution_count": 23,
   "metadata": {},
   "outputs": [
    {
     "data": {
      "text/plain": [
       "-5.329070518200744e-15"
      ]
     },
     "execution_count": 23,
     "metadata": {},
     "output_type": "execute_result"
    }
   ],
   "source": [
    "np.linalg.det(E)"
   ]
  },
  {
   "cell_type": "markdown",
   "metadata": {},
   "source": [
    "### Генератор псевдо случайных чисел "
   ]
  },
  {
   "cell_type": "code",
   "execution_count": 24,
   "metadata": {},
   "outputs": [
    {
     "name": "stdout",
     "output_type": "stream",
     "text": [
      "[-0.01497144 -0.04716954  0.27373882  0.10610183 -0.05542858  0.01828821\n",
      "  0.02018821 -0.01297994  0.03769562 -0.03502346  0.01419357 -0.01366585\n",
      "  0.02724872 -0.05248882  0.24682958  0.03786581 -0.05490212  0.00783491\n",
      " -0.01552062  0.01877937  0.1153288  -0.01961453  0.0944476   0.08325859\n",
      " -0.05149746 -0.18067559 -0.13280359 -0.09547106  0.17650084 -0.06548578\n",
      " -0.13345147 -0.15795704 -0.04964854  0.03732275 -0.1321595   0.34358058\n",
      " -0.08047188 -0.02099749  0.08805777 -0.02418602  0.03803817  0.10865574\n",
      "  0.13383792 -0.09452592 -0.03245256  0.01434565 -0.07121489  0.13056489\n",
      "  0.04278485  0.05150498 -0.07851473 -0.10534203 -0.03863398 -0.05414822\n",
      "  0.07844484  0.07929813 -0.07556351  0.01728721  0.13254994 -0.16202145\n",
      " -0.03471103 -0.00480629  0.0608403   0.0474916  -0.08571039 -0.0811361\n",
      " -0.05377134 -0.1118949  -0.08059226  0.04140483 -0.23408828  0.02895761\n",
      "  0.01554828  0.11642818  0.26172134 -0.09438312  0.02139261  0.19627501\n",
      " -0.1700148  -0.12571827  0.03634304 -0.0311206  -0.07469969  0.07775024\n",
      "  0.02202715  0.17653283  0.13598855 -0.01009283 -0.14103293 -0.06895196\n",
      " -0.18110742  0.00429737  0.07505349 -0.05548379 -0.16032921 -0.00952314\n",
      "  0.03252266  0.06408869 -0.00991348 -0.08605385]\n"
     ]
    }
   ],
   "source": [
    "mu, sigma = 0, 0.1 # среднее и стандартное отклонение\n",
    "N = 100 #количество значений (размерность)\n",
    "s = np.random.normal(mu, sigma, N)\n",
    "print(s)"
   ]
  },
  {
   "cell_type": "code",
   "execution_count": 26,
   "metadata": {},
   "outputs": [
    {
     "data": {
      "text/plain": [
       "array([[ 0.54560892,  0.88289511, -0.11874135],\n",
       "       [-2.31726376,  0.09809491, -0.4199782 ],\n",
       "       [ 0.20661881,  0.30560714,  0.56497913]])"
      ]
     },
     "execution_count": 26,
     "metadata": {},
     "output_type": "execute_result"
    }
   ],
   "source": [
    "#генератор псевдослучайной матрицы по нормальному закону распределения с заданными параметрами\n",
    "A = np.random.normal(0, 1, (3, 3))\n",
    "A"
   ]
  },
  {
   "cell_type": "code",
   "execution_count": 27,
   "metadata": {},
   "outputs": [
    {
     "data": {
      "text/plain": [
       "array([[ 0.14515329, -0.42266075, -0.2836788 ],\n",
       "       [ 0.96555405,  0.26286041,  0.39832768],\n",
       "       [-0.57536923,  0.01238567,  1.65825876]])"
      ]
     },
     "execution_count": 27,
     "metadata": {},
     "output_type": "execute_result"
    }
   ],
   "source": [
    "linalg.inv(A)"
   ]
  },
  {
   "cell_type": "markdown",
   "metadata": {},
   "source": [
    "### Построение графиков"
   ]
  },
  {
   "cell_type": "code",
   "execution_count": 28,
   "metadata": {},
   "outputs": [
    {
     "data": {
      "image/png": "[encoded data removed]",
      "text/plain": [
       "<Figure size 640x480 with 1 Axes>"
      ]
     },
     "metadata": {},
     "output_type": "display_data"
    }
   ],
   "source": [
    "x_vals = np.random.normal(0, 8, 5)\n",
    "y_vals = np.linspace(0, 8, num=5)\n",
    "plt.plot(x_vals, y_vals, label='r')\n",
    "# plt.grid(True)\n",
    "plt.show()"
   ]
  },
  {
   "cell_type": "code",
   "execution_count": 29,
   "metadata": {},
   "outputs": [
    {
     "data": {
      "image/png": "[encoded data removed]",
      "text/plain": [
       "<Figure size 640x480 with 1 Axes>"
      ]
     },
     "metadata": {},
     "output_type": "display_data"
    }
   ],
   "source": [
    "def my_dist(x):\n",
    "    return np.exp(-x ** 2)\n",
    "\n",
    "x = np.arange(-20, 20)\n",
    "p = my_dist(x)\n",
    "plt.plot(x, p)\n",
    "plt.show()"
   ]
  },
  {
   "cell_type": "code",
   "execution_count": 30,
   "metadata": {},
   "outputs": [
    {
     "data": {
      "image/png": "[encoded data removed]",
      "text/plain": [
       "<Figure size 640x480 with 1 Axes>"
      ]
     },
     "metadata": {},
     "output_type": "display_data"
    }
   ],
   "source": [
    "import numpy as np\n",
    "from scipy.interpolate import UnivariateSpline\n",
    "from matplotlib import pyplot as plt\n",
    "\n",
    "N = 10000\n",
    "n = N//10\n",
    "s = np.random.normal(size=N)   # generate your data sample with N elements\n",
    "p, x = np.histogram(s, bins=n) # bin it into n = N//10 bins\n",
    "x = x[:-1] + (x[1] - x[0])/2   # convert bin edges to centers\n",
    "f = UnivariateSpline(x, p, s=n)\n",
    "plt.plot(x, f(x))\n",
    "plt.show()"
   ]
  },
  {
   "cell_type": "markdown",
   "metadata": {},
   "source": [
    "## Базовые подходы к оценке праметра"
   ]
  },
  {
   "cell_type": "markdown",
   "metadata": {},
   "source": [
    "\n",
    "Необходимо по имеющимся данным измерений сопротивления в резисторе, определить истинное значение:\n",
    "\n",
    "| Сопротивление (Ом)|\n",
    "|-------------|\n",
    "| 10.22         |\n",
    "| 10.3         |\n",
    "| 10.36         |\n",
    "| 10.47         |"
   ]
  },
  {
   "cell_type": "code",
   "execution_count": 32,
   "metadata": {},
   "outputs": [],
   "source": [
    "import numpy as np\n",
    "from numpy.linalg import inv"
   ]
  },
  {
   "cell_type": "code",
   "execution_count": 33,
   "metadata": {},
   "outputs": [
    {
     "name": "stdout",
     "output_type": "stream",
     "text": [
      "[10.22 10.3  10.36 10.47]\n",
      "[10.3375]\n"
     ]
    }
   ],
   "source": [
    "#если одинаковая точность\n",
    "a = np.array([10.22,10.3])\n",
    "b = np.array([10.36, 10.47])\n",
    "com_data = np.concatenate((a, b), axis=0)\n",
    "data_dem = len(com_data)\n",
    "print(com_data)\n",
    "\n",
    "H_transp = np.ones(data_dem).reshape(1,data_dem)\n",
    "H = H_transp.reshape(data_dem,1)\n",
    "\n",
    "result= np.dot(inv(np.dot(H_transp, H)),np.dot(H_transp, com_data))\n",
    "\n",
    "print(result)"
   ]
  },
  {
   "cell_type": "code",
   "execution_count": 35,
   "metadata": {},
   "outputs": [
    {
     "data": {
      "text/plain": [
       "array([10.3375])"
      ]
     },
     "execution_count": 35,
     "metadata": {},
     "output_type": "execute_result"
    }
   ],
   "source": [
    "result =inv(H_transp@H) @ (H_transp@com_data)\n",
    "result"
   ]
  },
  {
   "cell_type": "markdown",
   "metadata": {},
   "source": [
    "Необходимо по имеющимся данным измерений сопротивления в резисторе, определить истинное значение:\n",
    "\n",
    "| Мультиметр 1 (точность 0.02) | Мультиметр 2 (точность 0.003) |\n",
    "|-------------|-------------|\n",
    "| 10.22         |         |\n",
    "| 10.3         |          |\n",
    "|          | 10.36        |\n",
    "|           | 10.47        |"
   ]
  },
  {
   "cell_type": "code",
   "execution_count": 37,
   "metadata": {},
   "outputs": [
    {
     "name": "stdout",
     "output_type": "stream",
     "text": [
      "[[4.e-04 0.e+00 0.e+00 0.e+00]\n",
      " [0.e+00 4.e-04 0.e+00 0.e+00]\n",
      " [0.e+00 0.e+00 9.e-06 0.e+00]\n",
      " [0.e+00 0.e+00 0.e+00 9.e-06]]\n"
     ]
    }
   ],
   "source": [
    "#если разная точность\n",
    "presicion_1 = 0.02\n",
    "presicion_2 = 0.003\n",
    "deviation_1 = np.full((1,len(a)),presicion_1**2)\n",
    "deviation_2 = np.full((1,len(b)),presicion_2**2)\n",
    "deviation = np.concatenate((deviation_1, deviation_2), axis=1)\n",
    "weights = np.zeros((data_dem, data_dem), float)\n",
    "np.fill_diagonal(weights, deviation)\n",
    "print(weights)"
   ]
  },
  {
   "cell_type": "markdown",
   "metadata": {},
   "source": [
    "Вспоминаем матричную форму всвешенных МНК:\n",
    "\n",
    "\\begin{align}\n",
    "\\hat{x} = \\left(\\mathbf{H}^T\\mathbf{R}^{-1}\\mathbf{H}\\right)^{-1}\\mathbf{H}^T\\mathbf{R}^{-1}\\mathbf{y}\n",
    "\\end{align}"
   ]
  },
  {
   "cell_type": "code",
   "execution_count": 38,
   "metadata": {},
   "outputs": [
    {
     "name": "stdout",
     "output_type": "stream",
     "text": [
      "[10.41158924]\n"
     ]
    }
   ],
   "source": [
    "#дальше надо эти формулы записать\n",
    "res1 = inv(np.dot(np.dot(H_transp,inv(weights)),H))\n",
    "res2 = np.dot(np.dot(H_transp, inv(weights)),com_data)\n",
    "\n",
    "result= np.dot(res1, res2)\n",
    "print(result)"
   ]
  },
  {
   "cell_type": "code",
   "execution_count": null,
   "metadata": {},
   "outputs": [],
   "source": []
  }
 ],
 "metadata": {
  "kernelspec": {
   "display_name": "base",
   "language": "python",
   "name": "python3"
  },
  "language_info": {
   "codemirror_mode": {
    "name": "ipython",
    "version": 3
   },
   "file_extension": ".py",
   "mimetype": "text/x-python",
   "name": "python",
   "nbconvert_exporter": "python",
   "pygments_lexer": "ipython3",
   "version": "3.9.13"
  }
 },
 "nbformat": 4,
 "nbformat_minor": 4
}
