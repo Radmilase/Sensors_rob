{
 "cells": [
  {
   "cell_type": "markdown",
   "metadata": {},
   "source": [
    "# Лабораторная работа №2\n",
    "## Курс \"Системы очувствления роботов\"\n",
    "\n",
    "Необходимо реализовать расширенный фильтр калмана (линеаризованный)."
   ]
  },
  {
   "cell_type": "markdown",
   "metadata": {},
   "source": [
    "Задача: найти положение в 1D пространстве, только в отличии от предыдущего примера (где измеряли изменение положения по данным GPS) используем данные с камеры, измеряя высоту отдаленных ориентиров относительно горизонта.<br />\n",
    "Важно!\n",
    "\n",
    "1.) Сохраним ту же модель линейного движения, что и в исходном\n",
    "примере, и предположим, что мы знаем высоту ориентира и его положение в глобальной системе координат.\n",
    "\n",
    "2.) Поскольку наш датчик измеряет угол, наша измерительная модель имеет нелинейную зависимость от положения\n",
    "движущегося объекта.\n",
    "\n",
    "Рисунок см. на слайде 29."
   ]
  },
  {
   "cell_type": "markdown",
   "metadata": {},
   "source": [
    "### Исходные данные \n",
    "Состояние\n",
    "$$\n",
    "\\mathbf{x}=\\left[\\begin{array}{c}\n",
    "p \\\\\n",
    "\\frac{d p}{d t}=\\dot{p}\n",
    "\\end{array}\\right]\n",
    "$$\n",
    "вход управления  $\\quad \\mathbf{u}=a=\\frac{d^{2} p}{d t^{2}}$\n",
    "<br />"
   ]
  },
  {
   "cell_type": "markdown",
   "metadata": {},
   "source": [
    "Модель движения\n",
    "$$\n",
    "\\begin{aligned}\n",
    "\\mathbf{x}_{k} &=\\mathbf{f}\\left(\\mathbf{x}_{k-1}, \\mathbf{u}_{k-1}, \\mathbf{w}_{k-1}\\right) \\\\\n",
    "&=\\left[\\begin{array}{cc}\n",
    "1 & \\Delta t \\\\\n",
    "0 & 1\n",
    "\\end{array}\\right] \\mathbf{x}_{k-1}+\\left[\\begin{array}{c}\n",
    "0 \\\\\n",
    "\\Delta t\n",
    "\\end{array}\\right] \\mathbf{u}_{k-1}+\\mathbf{w}_{k-1} \\\\\n",
    "v_{k} & \\sim \\mathscr{N}(0,0.01) \\quad \\mathbf{w}_{k} \\sim \\mathscr{N}\\left(\\mathbf{0},(0.1) \\mathbf{1}_{2 \\times 2}\\right)\n",
    "\\end{aligned}\n",
    "$$"
   ]
  },
  {
   "cell_type": "markdown",
   "metadata": {},
   "source": [
    "Модель измерения\n",
    "$$\n",
    "\\begin{aligned}\n",
    "y_{k} &=\\phi_{k}=h\\left(p_{k}, v_{k}\\right) \\\\\n",
    "&=\\tan ^{-1}\\left(\\frac{S}{D-p_{k}}\\right)+v_{k}\n",
    "\\end{aligned}\n",
    "$$"
   ]
  },
  {
   "cell_type": "markdown",
   "metadata": {},
   "source": [
    "Якобиан модели движения\n",
    "$$\n",
    "\\begin{array}{l}\n",
    "\\mathbf{F}_{k-1}=\\left.\\frac{\\partial \\mathbf{f}}{\\partial \\mathbf{x}_{k-1}}\\right|_{\\hat{\\mathbf{x}}_{k-1}, \\mathbf{u}_{k-1}, \\mathbf{0}}=\\left[\\begin{array}{cc}\n",
    "1 & \\Delta t \\\\\n",
    "0 & 1\n",
    "\\end{array}\\right] \\\\\n",
    "\\mathbf{L}_{k-1}=\\left.\\frac{\\partial \\mathbf{f}}{\\partial \\mathbf{w}_{k-1}}\\right|_{\\hat{\\mathbf{x}}_{k-1, \\mathbf{u}_{k-1}, \\mathbf{0}}}=\\mathbf{1}_{2 \\times 2}\n",
    "\\end{array}\n",
    "$$"
   ]
  },
  {
   "cell_type": "markdown",
   "metadata": {},
   "source": [
    "Якобиан модели измерения\n",
    "$$\n",
    "\\begin{array}{l}\n",
    "\\mathbf{H}_{k}=\\left.\\frac{\\partial h}{\\partial \\mathbf{x}_{k}}\\right|_{\\check{x}_{k}, \\mathbf{0}}=\\left[\\begin{array}{ll}\n",
    "\\frac{S}{\\left(D-\\check{p}_{k}\\right)^{2}+S^{2}} & 0\n",
    "\\end{array}\\right] \\\\\n",
    "M_{k}=\\left.\\frac{\\partial h}{\\partial v_{k}}\\right|_{\\check{x}_{k}, \\mathbf{0}}=1\n",
    "\\end{array}\n",
    "$$"
   ]
  },
  {
   "cell_type": "markdown",
   "metadata": {},
   "source": [
    "Необходимо найти положение объекта в момент\n",
    "времени 𝒌 + 𝟏, при ∆𝒕 = 𝟎. 𝟓 сек\n",
    "\n",
    "$$\n",
    "\\begin{array}{cl}\n",
    "\\hat{\\mathbf{x}}_{0} \\sim \\mathscr{N}\\left(\\left[\\begin{array}{l}\n",
    "0 \\\\\n",
    "5\n",
    "\\end{array}\\right],\\right. & \\left.\\left[\\begin{array}{cc}\n",
    "0.01 & 0 \\\\\n",
    "0 & 1\n",
    "\\end{array}\\right]\\right) \\\\\n",
    "u_{0}=-2\\left[\\mathrm{~м} / \\mathrm{с}^{2}\\right] & y_{1}=\\pi / 6[\\mathrm{рад.}] \\\\\n",
    "S=20[\\mathrm{~м}] & D=40[\\mathrm{~м}]\n",
    "\\end{array}\n",
    "$$"
   ]
  },
  {
   "cell_type": "code",
   "execution_count": 4,
   "metadata": {},
   "outputs": [],
   "source": [
    "import numpy as np\n",
    "from numpy.linalg import inv\n",
    "import matplotlib.pyplot as plt"
   ]
  },
  {
   "cell_type": "markdown",
   "metadata": {},
   "source": [
    "Змечание: мы линеризуем модель движения относительно предыдущей оценки, а модель измерения линеаризуем относительно предсказанного состояния."
   ]
  },
  {
   "cell_type": "code",
   "execution_count": 5,
   "metadata": {},
   "outputs": [],
   "source": [
    "x_0 = np.array([[0],[5]])\n",
    "P_0 = np.array([[0.01 , 0],\n",
    "                [0, 1]]) #ковариация в моментв ремени 0\n",
    "w_k = np.array([[0.1 , 0],\n",
    "                [0, 0.1]]) #ковариация модели движения в момент времени 0 (матрица Q в формулах)\n",
    "\n",
    "v_k = np.array([0.05]).reshape((1,1)) #ковариация модели измерения в момент времени 0 (в формулах R)\n",
    "u_0 = -2\n",
    "y_1 = 2.2\n",
    "dt = 0.5"
   ]
  },
  {
   "cell_type": "markdown",
   "metadata": {},
   "source": [
    "Необходимо теперь получить предсказания для x_k и P_k"
   ]
  },
  {
   "cell_type": "code",
   "execution_count": 6,
   "metadata": {},
   "outputs": [
    {
     "data": {
      "text/plain": [
       "array([[0.36, 0.5 ],\n",
       "       [0.5 , 1.1 ]])"
      ]
     },
     "execution_count": 6,
     "metadata": {},
     "output_type": "execute_result"
    }
   ],
   "source": [
    "f_matrix = np.array([[1, dt], [0, 1]])\n",
    "g_matrix = np.array([[0], [dt]])\n",
    "x_k = f_matrix.dot(x_0) + g_matrix*u_0\n",
    "\n",
    "# пересчет ковариационной матрицы\n",
    "P_k = f_matrix@P_0@f_matrix.T + w_k\n",
    "P_k"
   ]
  },
  {
   "cell_type": "markdown",
   "metadata": {},
   "source": [
    "### Модель измерения уже другая!!!\n",
    "Далее необходимо внести правки"
   ]
  },
  {
   "cell_type": "code",
   "execution_count": 7,
   "metadata": {},
   "outputs": [
    {
     "ename": "SyntaxError",
     "evalue": "invalid syntax (Temp/ipykernel_2452/75899495.py, line 2)",
     "output_type": "error",
     "traceback": [
      "\u001b[1;36m  File \u001b[1;32m\"C:\\Users\\b-isl\\AppData\\Local\\Temp/ipykernel_2452/75899495.py\"\u001b[1;36m, line \u001b[1;32m2\u001b[0m\n\u001b[1;33m    H =  # модель измерения\u001b[0m\n\u001b[1;37m         ^\u001b[0m\n\u001b[1;31mSyntaxError\u001b[0m\u001b[1;31m:\u001b[0m invalid syntax\n"
     ]
    }
   ],
   "source": [
    "# теперь надо сделать коррекцию\n",
    "H =  # модель измерения\n",
    "K_k = P_k@H.T@inv(H@P_k@H.T + v_k)\n",
    "K_k"
   ]
  },
  {
   "cell_type": "code",
   "execution_count": 8,
   "metadata": {},
   "outputs": [
    {
     "ename": "SyntaxError",
     "evalue": "invalid syntax (Temp/ipykernel_2452/226583281.py, line 2)",
     "output_type": "error",
     "traceback": [
      "\u001b[1;36m  File \u001b[1;32m\"C:\\Users\\b-isl\\AppData\\Local\\Temp/ipykernel_2452/226583281.py\"\u001b[1;36m, line \u001b[1;32m2\u001b[0m\n\u001b[1;33m    x_state =\u001b[0m\n\u001b[1;37m              ^\u001b[0m\n\u001b[1;31mSyntaxError\u001b[0m\u001b[1;31m:\u001b[0m invalid syntax\n"
     ]
    }
   ],
   "source": [
    "# осталось выполнить поправку оценки состояния и ковариационной матрицы\n",
    "x_state = \n",
    "P_state = "
   ]
  },
  {
   "cell_type": "markdown",
   "metadata": {},
   "source": [
    "## Фильтрация для интервала от 0 до 20 сек с интервалом измерений 0,1 сек\n",
    "Для самостоятельного выполнения"
   ]
  },
  {
   "cell_type": "code",
   "execution_count": 15,
   "metadata": {},
   "outputs": [
    {
     "data": {
      "text/plain": [
       "array([0.46364761, 0.46394331, 0.45583792, 0.4602238 , 0.46756375,\n",
       "       0.4591102 , 0.47721062, 0.46612852, 0.4686494 , 0.46785832,\n",
       "       0.47167686, 0.47346588, 0.46724847, 0.46946143, 0.48393537,\n",
       "       0.49785568, 0.49436255, 0.47591332, 0.49836541, 0.47975576,\n",
       "       0.46921458, 0.49445381, 0.49922302, 0.49645678, 0.49357358,\n",
       "       0.501212  , 0.49515677, 0.50119725, 0.48464343, 0.50344966,\n",
       "       0.49899733, 0.51208231, 0.50237515, 0.49932464, 0.49032495,\n",
       "       0.50360651, 0.50900636, 0.49826695, 0.51304355, 0.51059352,\n",
       "       0.49593827, 0.49665214, 0.49291056, 0.50055505, 0.48112357,\n",
       "       0.47786448, 0.4851439 , 0.49323178, 0.47000781, 0.49015249,\n",
       "       0.46713393, 0.46538848, 0.47627175, 0.48876572, 0.46216271,\n",
       "       0.464675  , 0.46566391, 0.48231029, 0.46755605, 0.45045919,\n",
       "       0.44866864, 0.45022331, 0.45520167, 0.46130849, 0.46091407,\n",
       "       0.46192362, 0.45670061, 0.47510626, 0.47992042, 0.46464416,\n",
       "       0.44155747, 0.46904419, 0.46424043, 0.46034005, 0.49771157,\n",
       "       0.48968221, 0.47741036, 0.47852992, 0.47960862, 0.504725  ,\n",
       "       0.48697798, 0.49645626, 0.49051927, 0.49385507, 0.47679961,\n",
       "       0.48337983, 0.47792191, 0.49634281, 0.49064312, 0.49576065,\n",
       "       0.48777255, 0.49498115, 0.50050901, 0.50120332, 0.49648318,\n",
       "       0.5074984 , 0.51781   , 0.50036942, 0.52283242, 0.51999238,\n",
       "       0.48467598, 0.50661311, 0.4945695 , 0.50373067, 0.52297719,\n",
       "       0.49907473, 0.48514468, 0.48860006, 0.48219729, 0.48734352,\n",
       "       0.50785521, 0.47830531, 0.46575892, 0.48477269, 0.47698408,\n",
       "       0.48187168, 0.46530466, 0.47216747, 0.46088462, 0.46716672,\n",
       "       0.47205074, 0.44519855, 0.45810714, 0.45256183, 0.44939034,\n",
       "       0.46813864, 0.44761071, 0.46615725, 0.47755918, 0.45936484,\n",
       "       0.46908277, 0.4647162 , 0.45980925, 0.47726808, 0.47526772,\n",
       "       0.47133883, 0.45591039, 0.4717358 , 0.47087716, 0.47826038,\n",
       "       0.48405034, 0.47820262, 0.48060574, 0.48912961, 0.47795688,\n",
       "       0.50044905, 0.49672829, 0.47546591, 0.51457344, 0.50430181,\n",
       "       0.50157352, 0.4943448 , 0.48872947, 0.48489598, 0.51833268,\n",
       "       0.49476484, 0.49198603, 0.50433654, 0.5131182 , 0.52556212,\n",
       "       0.49725721, 0.51751351, 0.48324941, 0.51120503, 0.49552137,\n",
       "       0.49530067, 0.50065846, 0.48592232, 0.49253784, 0.49830319,\n",
       "       0.4982004 , 0.49167788, 0.48487954, 0.49273569, 0.49923772,\n",
       "       0.48737133, 0.50204233, 0.49061747, 0.47343416, 0.47757172,\n",
       "       0.48589561, 0.45552238, 0.47729664, 0.45981954, 0.47062769,\n",
       "       0.4707351 , 0.45901407, 0.45430863, 0.44726424, 0.47282602,\n",
       "       0.48452456, 0.46796024, 0.45991716, 0.46792978, 0.4592391 ,\n",
       "       0.48387024, 0.48451465, 0.47175257, 0.45830816, 0.47226228])"
      ]
     },
     "execution_count": 15,
     "metadata": {},
     "output_type": "execute_result"
    }
   ],
   "source": [
    "y_k = np.array([0.46364761, 0.46394331, 0.45583792, 0.4602238 , 0.46756375,\n",
    "       0.4591102 , 0.47721062, 0.46612852, 0.4686494 , 0.46785832,\n",
    "       0.47167686, 0.47346588, 0.46724847, 0.46946143, 0.48393537,\n",
    "       0.49785568, 0.49436255, 0.47591332, 0.49836541, 0.47975576,\n",
    "       0.46921458, 0.49445381, 0.49922302, 0.49645678, 0.49357358,\n",
    "       0.501212  , 0.49515677, 0.50119725, 0.48464343, 0.50344966,\n",
    "       0.49899733, 0.51208231, 0.50237515, 0.49932464, 0.49032495,\n",
    "       0.50360651, 0.50900636, 0.49826695, 0.51304355, 0.51059352,\n",
    "       0.49593827, 0.49665214, 0.49291056, 0.50055505, 0.48112357,\n",
    "       0.47786448, 0.4851439 , 0.49323178, 0.47000781, 0.49015249,\n",
    "       0.46713393, 0.46538848, 0.47627175, 0.48876572, 0.46216271,\n",
    "       0.464675  , 0.46566391, 0.48231029, 0.46755605, 0.45045919,\n",
    "       0.44866864, 0.45022331, 0.45520167, 0.46130849, 0.46091407,\n",
    "       0.46192362, 0.45670061, 0.47510626, 0.47992042, 0.46464416,\n",
    "       0.44155747, 0.46904419, 0.46424043, 0.46034005, 0.49771157,\n",
    "       0.48968221, 0.47741036, 0.47852992, 0.47960862, 0.504725  ,\n",
    "       0.48697798, 0.49645626, 0.49051927, 0.49385507, 0.47679961,\n",
    "       0.48337983, 0.47792191, 0.49634281, 0.49064312, 0.49576065,\n",
    "       0.48777255, 0.49498115, 0.50050901, 0.50120332, 0.49648318,\n",
    "       0.5074984 , 0.51781   , 0.50036942, 0.52283242, 0.51999238,\n",
    "       0.48467598, 0.50661311, 0.4945695 , 0.50373067, 0.52297719,\n",
    "       0.49907473, 0.48514468, 0.48860006, 0.48219729, 0.48734352,\n",
    "       0.50785521, 0.47830531, 0.46575892, 0.48477269, 0.47698408,\n",
    "       0.48187168, 0.46530466, 0.47216747, 0.46088462, 0.46716672,\n",
    "       0.47205074, 0.44519855, 0.45810714, 0.45256183, 0.44939034,\n",
    "       0.46813864, 0.44761071, 0.46615725, 0.47755918, 0.45936484,\n",
    "       0.46908277, 0.4647162 , 0.45980925, 0.47726808, 0.47526772,\n",
    "       0.47133883, 0.45591039, 0.4717358 , 0.47087716, 0.47826038,\n",
    "       0.48405034, 0.47820262, 0.48060574, 0.48912961, 0.47795688,\n",
    "       0.50044905, 0.49672829, 0.47546591, 0.51457344, 0.50430181,\n",
    "       0.50157352, 0.4943448 , 0.48872947, 0.48489598, 0.51833268,\n",
    "       0.49476484, 0.49198603, 0.50433654, 0.5131182 , 0.52556212,\n",
    "       0.49725721, 0.51751351, 0.48324941, 0.51120503, 0.49552137,\n",
    "       0.49530067, 0.50065846, 0.48592232, 0.49253784, 0.49830319,\n",
    "       0.4982004 , 0.49167788, 0.48487954, 0.49273569, 0.49923772,\n",
    "       0.48737133, 0.50204233, 0.49061747, 0.47343416, 0.47757172,\n",
    "       0.48589561, 0.45552238, 0.47729664, 0.45981954, 0.47062769,\n",
    "       0.4707351 , 0.45901407, 0.45430863, 0.44726424, 0.47282602,\n",
    "       0.48452456, 0.46796024, 0.45991716, 0.46792978, 0.4592391 ,\n",
    "       0.48387024, 0.48451465, 0.47175257, 0.45830816, 0.47226228])\n",
    "y_k"
   ]
  },
  {
   "cell_type": "code",
   "execution_count": 10,
   "metadata": {},
   "outputs": [],
   "source": [
    "def motion_iterate(dt, x_k, u_k, P_k):\n",
    "    \"\"\"\n",
    "    example inputs:\n",
    "    dt = 0.1\n",
    "    x_k = 0\n",
    "    u_k = -2\n",
    "    \"\"\"\n",
    "    # motion model \n",
    "    f_matrix = np.array([[1, dt], [0, 1]])\n",
    "    g_matrix = np.array([[0], [dt]])\n",
    "    x_k = f_matrix.dot(x_k) + g_matrix*u_k\n",
    "    \n",
    "    # propogate covariance\n",
    "    P_k = f_matrix@P_k@f_matrix.T + w_k\n",
    "    \n",
    "    return x_k, P_k"
   ]
  },
  {
   "cell_type": "code",
   "execution_count": 13,
   "metadata": {},
   "outputs": [
    {
     "name": "stdout",
     "output_type": "stream",
     "text": [
      "iteration number  1 curent time  0.1\n",
      "iteration number  2 curent time  0.2\n",
      "iteration number  3 curent time  0.30000000000000004\n",
      "iteration number  4 curent time  0.4\n",
      "iteration number  5 curent time  0.5\n",
      "iteration number  6 curent time  0.6000000000000001\n",
      "iteration number  7 curent time  0.7000000000000001\n",
      "iteration number  8 curent time  0.8\n",
      "iteration number  9 curent time  0.9\n",
      "iteration number  10 curent time  1.0\n",
      "iteration number  11 curent time  1.1\n",
      "iteration number  12 curent time  1.2000000000000002\n",
      "iteration number  13 curent time  1.3\n",
      "iteration number  14 curent time  1.4000000000000001\n",
      "iteration number  15 curent time  1.5\n",
      "iteration number  16 curent time  1.6\n",
      "iteration number  17 curent time  1.7000000000000002\n",
      "iteration number  18 curent time  1.8\n",
      "iteration number  19 curent time  1.9000000000000001\n",
      "iteration number  20 curent time  2.0\n",
      "iteration number  21 curent time  2.1\n",
      "iteration number  22 curent time  2.2\n",
      "iteration number  23 curent time  2.3000000000000003\n",
      "iteration number  24 curent time  2.4000000000000004\n",
      "iteration number  25 curent time  2.5\n",
      "iteration number  26 curent time  2.6\n",
      "iteration number  27 curent time  2.7\n",
      "iteration number  28 curent time  2.8000000000000003\n",
      "iteration number  29 curent time  2.9000000000000004\n",
      "iteration number  30 curent time  3.0\n",
      "iteration number  31 curent time  3.1\n",
      "iteration number  32 curent time  3.2\n",
      "iteration number  33 curent time  3.3000000000000003\n",
      "iteration number  34 curent time  3.4000000000000004\n",
      "iteration number  35 curent time  3.5\n",
      "iteration number  36 curent time  3.6\n",
      "iteration number  37 curent time  3.7\n",
      "iteration number  38 curent time  3.8000000000000003\n",
      "iteration number  39 curent time  3.9000000000000004\n",
      "iteration number  40 curent time  4.0\n",
      "iteration number  41 curent time  4.1000000000000005\n",
      "iteration number  42 curent time  4.2\n",
      "iteration number  43 curent time  4.3\n",
      "iteration number  44 curent time  4.4\n",
      "iteration number  45 curent time  4.5\n",
      "iteration number  46 curent time  4.6000000000000005\n",
      "iteration number  47 curent time  4.7\n",
      "iteration number  48 curent time  4.800000000000001\n",
      "iteration number  49 curent time  4.9\n",
      "iteration number  50 curent time  5.0\n",
      "iteration number  51 curent time  5.1000000000000005\n",
      "iteration number  52 curent time  5.2\n",
      "iteration number  53 curent time  5.300000000000001\n",
      "iteration number  54 curent time  5.4\n",
      "iteration number  55 curent time  5.5\n",
      "iteration number  56 curent time  5.6000000000000005\n",
      "iteration number  57 curent time  5.7\n",
      "iteration number  58 curent time  5.800000000000001\n",
      "iteration number  59 curent time  5.9\n",
      "iteration number  60 curent time  6.0\n",
      "iteration number  61 curent time  6.1000000000000005\n",
      "iteration number  62 curent time  6.2\n",
      "iteration number  63 curent time  6.300000000000001\n",
      "iteration number  64 curent time  6.4\n",
      "iteration number  65 curent time  6.5\n",
      "iteration number  66 curent time  6.6000000000000005\n",
      "iteration number  67 curent time  6.7\n",
      "iteration number  68 curent time  6.800000000000001\n",
      "iteration number  69 curent time  6.9\n",
      "iteration number  70 curent time  7.0\n",
      "iteration number  71 curent time  7.1000000000000005\n",
      "iteration number  72 curent time  7.2\n",
      "iteration number  73 curent time  7.300000000000001\n",
      "iteration number  74 curent time  7.4\n",
      "iteration number  75 curent time  7.5\n",
      "iteration number  76 curent time  7.6000000000000005\n",
      "iteration number  77 curent time  7.7\n",
      "iteration number  78 curent time  7.800000000000001\n",
      "iteration number  79 curent time  7.9\n",
      "iteration number  80 curent time  8.0\n",
      "iteration number  81 curent time  8.1\n",
      "iteration number  82 curent time  8.200000000000001\n",
      "iteration number  83 curent time  8.3\n",
      "iteration number  84 curent time  8.4\n",
      "iteration number  85 curent time  8.5\n",
      "iteration number  86 curent time  8.6\n",
      "iteration number  87 curent time  8.700000000000001\n",
      "iteration number  88 curent time  8.8\n",
      "iteration number  89 curent time  8.9\n",
      "iteration number  90 curent time  9.0\n",
      "iteration number  91 curent time  9.1\n",
      "iteration number  92 curent time  9.200000000000001\n",
      "iteration number  93 curent time  9.3\n",
      "iteration number  94 curent time  9.4\n",
      "iteration number  95 curent time  9.5\n",
      "iteration number  96 curent time  9.600000000000001\n",
      "iteration number  97 curent time  9.700000000000001\n",
      "iteration number  98 curent time  9.8\n",
      "iteration number  99 curent time  9.9\n",
      "iteration number  100 curent time  10.0\n",
      "iteration number  101 curent time  10.100000000000001\n",
      "iteration number  102 curent time  10.200000000000001\n",
      "iteration number  103 curent time  10.3\n",
      "iteration number  104 curent time  10.4\n",
      "iteration number  105 curent time  10.5\n",
      "iteration number  106 curent time  10.600000000000001\n",
      "iteration number  107 curent time  10.700000000000001\n",
      "iteration number  108 curent time  10.8\n",
      "iteration number  109 curent time  10.9\n",
      "iteration number  110 curent time  11.0\n",
      "iteration number  111 curent time  11.100000000000001\n",
      "iteration number  112 curent time  11.200000000000001\n",
      "iteration number  113 curent time  11.3\n",
      "iteration number  114 curent time  11.4\n",
      "iteration number  115 curent time  11.5\n",
      "iteration number  116 curent time  11.600000000000001\n",
      "iteration number  117 curent time  11.700000000000001\n",
      "iteration number  118 curent time  11.8\n",
      "iteration number  119 curent time  11.9\n",
      "iteration number  120 curent time  12.0\n",
      "iteration number  121 curent time  12.100000000000001\n",
      "iteration number  122 curent time  12.200000000000001\n",
      "iteration number  123 curent time  12.3\n",
      "iteration number  124 curent time  12.4\n",
      "iteration number  125 curent time  12.5\n",
      "iteration number  126 curent time  12.600000000000001\n",
      "iteration number  127 curent time  12.700000000000001\n",
      "iteration number  128 curent time  12.8\n",
      "iteration number  129 curent time  12.9\n",
      "iteration number  130 curent time  13.0\n",
      "iteration number  131 curent time  13.100000000000001\n",
      "iteration number  132 curent time  13.200000000000001\n",
      "iteration number  133 curent time  13.3\n",
      "iteration number  134 curent time  13.4\n",
      "iteration number  135 curent time  13.5\n",
      "iteration number  136 curent time  13.600000000000001\n",
      "iteration number  137 curent time  13.700000000000001\n",
      "iteration number  138 curent time  13.8\n",
      "iteration number  139 curent time  13.9\n",
      "iteration number  140 curent time  14.0\n",
      "iteration number  141 curent time  14.100000000000001\n",
      "iteration number  142 curent time  14.200000000000001\n",
      "iteration number  143 curent time  14.3\n",
      "iteration number  144 curent time  14.4\n",
      "iteration number  145 curent time  14.5\n",
      "iteration number  146 curent time  14.600000000000001\n",
      "iteration number  147 curent time  14.700000000000001\n",
      "iteration number  148 curent time  14.8\n",
      "iteration number  149 curent time  14.9\n",
      "iteration number  150 curent time  15.0\n",
      "iteration number  151 curent time  15.100000000000001\n",
      "iteration number  152 curent time  15.200000000000001\n",
      "iteration number  153 curent time  15.3\n",
      "iteration number  154 curent time  15.4\n",
      "iteration number  155 curent time  15.5\n",
      "iteration number  156 curent time  15.600000000000001\n",
      "iteration number  157 curent time  15.700000000000001\n",
      "iteration number  158 curent time  15.8\n",
      "iteration number  159 curent time  15.9\n",
      "iteration number  160 curent time  16.0\n",
      "iteration number  161 curent time  16.1\n",
      "iteration number  162 curent time  16.2\n",
      "iteration number  163 curent time  16.3\n",
      "iteration number  164 curent time  16.400000000000002\n",
      "iteration number  165 curent time  16.5\n",
      "iteration number  166 curent time  16.6\n",
      "iteration number  167 curent time  16.7\n",
      "iteration number  168 curent time  16.8\n",
      "iteration number  169 curent time  16.900000000000002\n",
      "iteration number  170 curent time  17.0\n",
      "iteration number  171 curent time  17.1\n",
      "iteration number  172 curent time  17.2\n",
      "iteration number  173 curent time  17.3\n",
      "iteration number  174 curent time  17.400000000000002\n",
      "iteration number  175 curent time  17.5\n",
      "iteration number  176 curent time  17.6\n",
      "iteration number  177 curent time  17.7\n",
      "iteration number  178 curent time  17.8\n",
      "iteration number  179 curent time  17.900000000000002\n",
      "iteration number  180 curent time  18.0\n",
      "iteration number  181 curent time  18.1\n",
      "iteration number  182 curent time  18.2\n",
      "iteration number  183 curent time  18.3\n",
      "iteration number  184 curent time  18.400000000000002\n",
      "iteration number  185 curent time  18.5\n",
      "iteration number  186 curent time  18.6\n",
      "iteration number  187 curent time  18.7\n",
      "iteration number  188 curent time  18.8\n",
      "iteration number  189 curent time  18.900000000000002\n",
      "iteration number  190 curent time  19.0\n",
      "iteration number  191 curent time  19.1\n",
      "iteration number  192 curent time  19.200000000000003\n",
      "iteration number  193 curent time  19.3\n",
      "iteration number  194 curent time  19.400000000000002\n",
      "iteration number  195 curent time  19.5\n",
      "iteration number  196 curent time  19.6\n",
      "iteration number  197 curent time  19.700000000000003\n",
      "iteration number  198 curent time  19.8\n",
      "iteration number  199 curent time  19.900000000000002\n"
     ]
    }
   ],
   "source": [
    "# например для времени от 1 до 10 секунд\n",
    "dt = 0.1\n",
    "t_time = np.arange(0, 20.0, dt)\n",
    "N = t_time.shape[0];\n",
    "u_k = np.cos(t_time) * 2\n",
    "\n",
    "x_k_check = np.zeros((N,2,1))\n",
    "P_k_check = np.zeros((N,2,2))\n",
    "\n",
    "x_k_hat = np.zeros((N,2,1))\n",
    "P_k_hat = np.zeros((N,2,2))\n",
    "\n",
    "x_k_hat[0] = np.array([[0],[5]])\n",
    "P_k_hat[0] = np.array([[0.5 , 0],\n",
    "                [0, 10]])\n",
    "\n",
    "# setup motion modelling\n",
    "for i in range(1,N):\n",
    "    print('iteration number ', i, 'curent time ', 0.1*i)\n",
    "        #..."
   ]
  },
  {
   "cell_type": "code",
   "execution_count": 16,
   "metadata": {},
   "outputs": [
    {
     "data": {
      "image/png": "[encoded data removed]",
      "text/plain": [
       "<Figure size 576x576 with 1 Axes>"
      ]
     },
     "metadata": {
      "needs_background": "light"
     },
     "output_type": "display_data"
    }
   ],
   "source": [
    "plt.figure(figsize=(8, 8))\n",
    "plt.plot(t_time[:],x_k_hat[:,0], color='b')\n",
    "plt.scatter(t_time[:],x_k_check[:,0], color='r') # оценка\n",
    "plt.plot(t_time[:],u_k, color='r')\n",
    "plt.plot(t_time[:],y_k, color='g')\n",
    "plt.xlabel('Time')\n",
    "plt.ylabel('Position')\n",
    "plt.legend(['x_k_hat', 'u_k', 'y_k'])\n",
    "plt.show()"
   ]
  },
  {
   "cell_type": "code",
   "execution_count": null,
   "metadata": {},
   "outputs": [],
   "source": []
  },
  {
   "cell_type": "code",
   "execution_count": null,
   "metadata": {},
   "outputs": [],
   "source": []
  }
 ],
 "metadata": {
  "kernelspec": {
   "display_name": "Python 3 (ipykernel)",
   "language": "python",
   "name": "python3"
  },
  "language_info": {
   "codemirror_mode": {
    "name": "ipython",
    "version": 3
   },
   "file_extension": ".py",
   "mimetype": "text/x-python",
   "name": "python",
   "nbconvert_exporter": "python",
   "pygments_lexer": "ipython3",
   "version": "3.8.12"
  }
 },
 "nbformat": 4,
 "nbformat_minor": 4
}
