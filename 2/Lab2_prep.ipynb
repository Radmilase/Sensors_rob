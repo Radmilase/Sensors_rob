{
 "cells": [
  {
   "cell_type": "markdown",
   "metadata": {},
   "source": [
    "# Подготовка к ЛР №2\n",
    "## Курс \"Системы очувствления роботов\"\n",
    "-----\n",
    "\n",
    "Необходимо реализовать линейный фильтр Калмана."
   ]
  },
  {
   "cell_type": "markdown",
   "metadata": {},
   "source": [
    "Задача: Найти положение робота в одномерном пространстве при условии, что мы получаем информацию об изменении положения по данным GPS.<br />"
   ]
  },
  {
   "cell_type": "markdown",
   "metadata": {},
   "source": [
    "### Исходные данные \n",
    "Объект характеризуется положением и скоростью. \\\n",
    "Управление: по ускорению. \\\n",
    "Состояние = \n",
    "$$\n",
    "\\mathbf{x}=\\left[\\begin{array}{c}\n",
    "p \\\\\n",
    "\\frac{d p}{d t}=\\dot{p}\n",
    "\\end{array}\\right]\n",
    "$$\n",
    "Вход управления =  $\\quad \\mathbf{u}=a=\\frac{d^{2} p}{d t^{2}}$\n",
    "\\\n",
    "Модель процесса и модель движения:\n"
   ]
  },
  {
   "cell_type": "markdown",
   "metadata": {},
   "source": [
    "\n",
    "$$\n",
    "\\begin{array}{c}\n",
    "\\mathbf{x}_{k}=\\left[\\begin{array}{cc}\n",
    "1 & \\Delta t \\\\\n",
    "0 & 1\n",
    "\\end{array}\\right] \\mathbf{x}_{k-1}+\\left[\\begin{array}{c}\n",
    "0 \\\\\n",
    "\\Delta t\n",
    "\\end{array}\\right] \\mathbf{u}_{k-1}+\\mathbf{w}_{k-1} \\\\\n",
    "y_{k}=\\left[\\begin{array}{ll}\n",
    "1 & 0\n",
    "\\end{array}\\right] \\mathbf{x}_{k}+v_{k} \\\\\n",
    "v_{k} \\sim \\mathscr{N}(0,0.05) \\quad \\mathbf{w}_{k} \\sim \\mathscr{N}\\left(\\mathbf{0},(0.1) \\mathbf{1}_{2 \\times 2}\\right)\n",
    "\\end{array}\n",
    "$$"
   ]
  },
  {
   "cell_type": "markdown",
   "metadata": {},
   "source": [
    "## Реализуем фильтрация для одного временного шага"
   ]
  },
  {
   "cell_type": "code",
   "execution_count": 4,
   "metadata": {},
   "outputs": [],
   "source": [
    "import numpy as np\n",
    "from numpy.linalg import inv\n",
    "import matplotlib.pyplot as plt"
   ]
  },
  {
   "cell_type": "markdown",
   "metadata": {},
   "source": [
    "Запишем наши исходные данные"
   ]
  },
  {
   "cell_type": "code",
   "execution_count": 8,
   "metadata": {},
   "outputs": [],
   "source": [
    "x_0 = np.array([[0],[5]])\n",
    "P_0 = np.array([[0.01 , 0],\n",
    "                [0, 1]]) #ковариация в моментв ремени 0\n",
    "w_k = np.array([[0.1 , 0],\n",
    "                [0, 0.1]]) #ковариация модели движения в момент времени 0 (матрица Q в формулах)\n",
    "v_k = np.array([0.05]).reshape((1,1)) #ковариация модели измерения в момент времени 0 (в формулах R)\n",
    "u_0 = -2\n",
    "y_1 = 2.2\n",
    "dt = 0.5"
   ]
  },
  {
   "cell_type": "markdown",
   "metadata": {},
   "source": [
    "Необходимо теперь получить предсказания для x_k и P_k"
   ]
  },
  {
   "cell_type": "code",
   "execution_count": 9,
   "metadata": {},
   "outputs": [
    {
     "data": {
      "text/plain": [
       "array([[0.36, 0.5 ],\n",
       "       [0.5 , 1.1 ]])"
      ]
     },
     "execution_count": 9,
     "metadata": {},
     "output_type": "execute_result"
    }
   ],
   "source": [
    "f_matrix = np.array([[1, dt], [0, 1]])\n",
    "g_matrix = np.array([[0], [dt]])\n",
    "x_k = f_matrix.dot(x_0) + g_matrix*u_0 + 0\n",
    "\n",
    "# propogate covariance\n",
    "P_k = f_matrix@P_0@f_matrix.T + w_k\n",
    "P_k"
   ]
  },
  {
   "cell_type": "code",
   "execution_count": 10,
   "metadata": {},
   "outputs": [
    {
     "data": {
      "text/plain": [
       "array([[0.87804878],\n",
       "       [1.2195122 ]])"
      ]
     },
     "execution_count": 10,
     "metadata": {},
     "output_type": "execute_result"
    }
   ],
   "source": [
    "# теперь надо сделать коррекцию\n",
    "H = np.array([[1, 0]]) # модель измерения (просто получаем положение)\n",
    "K_k = P_k@H.T@inv(H@P_k@H.T + v_k)\n",
    "K_k"
   ]
  },
  {
   "cell_type": "code",
   "execution_count": 11,
   "metadata": {},
   "outputs": [
    {
     "data": {
      "text/plain": [
       "array([[2.23658537],\n",
       "       [3.63414634]])"
      ]
     },
     "execution_count": 11,
     "metadata": {},
     "output_type": "execute_result"
    }
   ],
   "source": [
    "# осталось перерасчитать оценку\n",
    "x_state = x_k + K_k@(y_1 - H@x_k) + 0\n",
    "x_state"
   ]
  },
  {
   "cell_type": "code",
   "execution_count": 18,
   "metadata": {},
   "outputs": [
    {
     "data": {
      "text/plain": [
       "array([[0.04390244, 0.06097561],\n",
       "       [0.06097561, 0.4902439 ]])"
      ]
     },
     "execution_count": 18,
     "metadata": {},
     "output_type": "execute_result"
    }
   ],
   "source": [
    "P_state = (np.array([[1, 0],\n",
    "       [0, 1]]) - K_k@H)@P_k\n",
    "P_state"
   ]
  }
 ],
 "metadata": {
  "kernelspec": {
   "display_name": "base",
   "language": "python",
   "name": "python3"
  },
  "language_info": {
   "codemirror_mode": {
    "name": "ipython",
    "version": 3
   },
   "file_extension": ".py",
   "mimetype": "text/x-python",
   "name": "python",
   "nbconvert_exporter": "python",
   "pygments_lexer": "ipython3",
   "version": "3.9.13"
  }
 },
 "nbformat": 4,
 "nbformat_minor": 4
}
